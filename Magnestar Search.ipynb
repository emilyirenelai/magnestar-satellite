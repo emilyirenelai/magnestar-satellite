{
 "cells": [
  {
   "cell_type": "code",
   "execution_count": 1,
   "id": "f9dff59e",
   "metadata": {},
   "outputs": [],
   "source": [
    "import numpy as np\n",
    "import pandas as pd"
   ]
  },
  {
   "cell_type": "code",
   "execution_count": 8,
   "id": "a402ed6c",
   "metadata": {},
   "outputs": [],
   "source": [
    "satellites = pd.read_csv(\"satellites.csv\")"
   ]
  },
  {
   "cell_type": "code",
   "execution_count": 9,
   "id": "588a69d5",
   "metadata": {},
   "outputs": [
    {
     "name": "stdout",
     "output_type": "stream",
     "text": [
      "Please enter operator or leave blank for none: R\n",
      "Please enter frequency bands separated by / or leave blank for none: VHF/UHF\n"
     ]
    }
   ],
   "source": [
    "# Parse user input\n",
    "# Operators: will search for user input as substring within each Operator, case sensitive\n",
    "# Frequency Band: will find satellites with user input frequency bands in any order, case sensitive\n",
    "# Case sensitive\n",
    "user_op = input(\"Please enter operator or leave blank for none: \")\n",
    "user_freq_band = input(\"Please enter frequency bands separated by / or leave blank for none: \").split(\"/\")"
   ]
  },
  {
   "cell_type": "code",
   "execution_count": 10,
   "id": "9343212b",
   "metadata": {
    "scrolled": true
   },
   "outputs": [],
   "source": [
    "# Filter if user has entered an operator, otherwise no filter\n",
    "if user_op != \"\":\n",
    "    satellites = satellites[satellites.apply(lambda x: user_op in str(x[\"Operator\"]), axis=1)]"
   ]
  },
  {
   "cell_type": "code",
   "execution_count": 11,
   "id": "a64c9318",
   "metadata": {},
   "outputs": [],
   "source": [
    "def can_create(user_freq_band, df_freq_band):\n",
    "    if type(df_freq_band) is float:\n",
    "        return False\n",
    "\n",
    "    df_freq_band = df_freq_band.split('/')\n",
    "    # Convert both to sets to remove edge case of duplicates\n",
    "    user_set = set(user_freq_band)\n",
    "    df_set = set(df_freq_band)\n",
    "\n",
    "    \n",
    "    for band in user_set:\n",
    "        if band not in df_set:\n",
    "            return False\n",
    "    return True"
   ]
  },
  {
   "cell_type": "code",
   "execution_count": 12,
   "id": "6241aaee",
   "metadata": {},
   "outputs": [],
   "source": [
    "# Filter if user has entered a value for frequency band, otherwise no filter\n",
    "if user_freq_band != ['']:\n",
    "    satellites = satellites[satellites.apply(lambda x: can_create(user_freq_band, x[\"Frequency Band\"]), axis=1)]"
   ]
  },
  {
   "cell_type": "code",
   "execution_count": 13,
   "id": "efdf6643",
   "metadata": {},
   "outputs": [
    {
     "data": {
      "text/html": [
       "<div>\n",
       "<style scoped>\n",
       "    .dataframe tbody tr th:only-of-type {\n",
       "        vertical-align: middle;\n",
       "    }\n",
       "\n",
       "    .dataframe tbody tr th {\n",
       "        vertical-align: top;\n",
       "    }\n",
       "\n",
       "    .dataframe thead th {\n",
       "        text-align: right;\n",
       "    }\n",
       "</style>\n",
       "<table border=\"1\" class=\"dataframe\">\n",
       "  <thead>\n",
       "    <tr style=\"text-align: right;\">\n",
       "      <th></th>\n",
       "      <th>sat name</th>\n",
       "      <th>NORAD</th>\n",
       "      <th>Operator</th>\n",
       "      <th>Frequency Band</th>\n",
       "    </tr>\n",
       "  </thead>\n",
       "  <tbody>\n",
       "    <tr>\n",
       "      <th>15</th>\n",
       "      <td>UOSAT 2 (UO-11)</td>\n",
       "      <td>14781</td>\n",
       "      <td>RASC (Radio Amatuer Satellite Corporation)</td>\n",
       "      <td>VHF/UHF</td>\n",
       "    </tr>\n",
       "    <tr>\n",
       "      <th>21</th>\n",
       "      <td>LUSAT (LO-19)</td>\n",
       "      <td>20442</td>\n",
       "      <td>RASC (Radio Amatuer Satellite Corporation)</td>\n",
       "      <td>VHF/UHF</td>\n",
       "    </tr>\n",
       "  </tbody>\n",
       "</table>\n",
       "</div>"
      ],
      "text/plain": [
       "           sat name  NORAD                                     Operator  \\\n",
       "15  UOSAT 2 (UO-11)  14781  RASC (Radio Amatuer Satellite Corporation)    \n",
       "21    LUSAT (LO-19)  20442  RASC (Radio Amatuer Satellite Corporation)    \n",
       "\n",
       "   Frequency Band  \n",
       "15        VHF/UHF  \n",
       "21        VHF/UHF  "
      ]
     },
     "execution_count": 13,
     "metadata": {},
     "output_type": "execute_result"
    }
   ],
   "source": [
    "satellites[['sat name', 'NORAD', 'Operator', 'Frequency Band']]"
   ]
  },
  {
   "cell_type": "code",
   "execution_count": null,
   "id": "dd1e451b",
   "metadata": {},
   "outputs": [],
   "source": []
  }
 ],
 "metadata": {
  "kernelspec": {
   "display_name": "Python 3",
   "language": "python",
   "name": "python3"
  },
  "language_info": {
   "codemirror_mode": {
    "name": "ipython",
    "version": 3
   },
   "file_extension": ".py",
   "mimetype": "text/x-python",
   "name": "python",
   "nbconvert_exporter": "python",
   "pygments_lexer": "ipython3",
   "version": "3.8.8"
  }
 },
 "nbformat": 4,
 "nbformat_minor": 5
}
